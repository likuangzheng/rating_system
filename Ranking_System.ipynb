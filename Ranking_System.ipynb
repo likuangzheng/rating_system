{
 "cells": [
  {
   "cell_type": "code",
   "execution_count": 220,
   "metadata": {
    "collapsed": true
   },
   "outputs": [],
   "source": [
    "import pandas as pd\n",
    "pd.set_option('precision', 2)\n",
    "import numpy as np\n",
    "import os\n",
    "import json\n",
    "from pandas import DataFrame, Series\n",
    "from collections import defaultdict\n",
    "from math import log\n",
    "%matplotlib inline"
   ]
  },
  {
   "cell_type": "markdown",
   "metadata": {},
   "source": [
    "### 第一赛季\n",
    "1月27日（周五）早10点 － 1月30日（周一）早10点\n",
    "\n",
    "SeasonId:5885e0c6684a332c58913c05\n",
    "\n",
    "### 第二赛季\n",
    "1月30日（周一）早10点 － 2月3日（周五）早10点\n",
    "\n",
    "SeasonId:5885e1000d2b3a7658b3e4b4"
   ]
  },
  {
   "cell_type": "code",
   "execution_count": 74,
   "metadata": {
    "collapsed": true
   },
   "outputs": [],
   "source": [
    "SeasonLog = pd.read_json(\"/Users/kuangzheng/Desktop/GameAI/Data/log_data/SpringCup.json\", lines=True)\n",
    "SeasonLog['time'] = SeasonLog['time'].str.rsplit(' ',expand=True)[0]\n",
    "SeasonLog = SeasonLog[SeasonLog['gameStatus'] == 1]"
   ]
  },
  {
   "cell_type": "markdown",
   "metadata": {},
   "source": [
    "## 目前只有两个赛季数据，写初步逻辑时暂且用第一个season做train，第二个作test好了"
   ]
  },
  {
   "cell_type": "code",
   "execution_count": 92,
   "metadata": {
    "collapsed": true
   },
   "outputs": [],
   "source": [
    "seasonLog_1 = SeasonLog[SeasonLog.seasonId == '5885e0c6684a332c58913c05']\n",
    "seasonLog_2 = SeasonLog[SeasonLog.seasonId == '5885e1000d2b3a7658b3e4b4']"
   ]
  },
  {
   "cell_type": "markdown",
   "metadata": {},
   "source": [
    "# 1st Step\n",
    "\n",
    "### 玩家game表现评价模型\n",
    "### 目的输出：玩家user在不同Season，Session，Game的得分"
   ]
  },
  {
   "cell_type": "code",
   "execution_count": 122,
   "metadata": {},
   "outputs": [
    {
     "data": {
      "text/plain": [
       "gameId            int64\n",
       "gameMultiple      int64\n",
       "gameResult      float64\n",
       "gameStatus        int64\n",
       "role              int64\n",
       "seasonId         object\n",
       "sessionId         int64\n",
       "time             object\n",
       "user             object\n",
       "dtype: object"
      ]
     },
     "execution_count": 122,
     "metadata": {},
     "output_type": "execute_result"
    }
   ],
   "source": [
    "seasonLog_1.dtypes"
   ]
  },
  {
   "cell_type": "code",
   "execution_count": 221,
   "metadata": {
    "scrolled": true
   },
   "outputs": [
    {
     "data": {
      "text/html": [
       "<div>\n",
       "<style scoped>\n",
       "    .dataframe tbody tr th:only-of-type {\n",
       "        vertical-align: middle;\n",
       "    }\n",
       "\n",
       "    .dataframe tbody tr th {\n",
       "        vertical-align: top;\n",
       "    }\n",
       "\n",
       "    .dataframe thead th {\n",
       "        text-align: right;\n",
       "    }\n",
       "</style>\n",
       "<table border=\"1\" class=\"dataframe\">\n",
       "  <thead>\n",
       "    <tr style=\"text-align: right;\">\n",
       "      <th></th>\n",
       "      <th>gameId</th>\n",
       "      <th>gameMultiple</th>\n",
       "      <th>gameResult</th>\n",
       "      <th>gameStatus</th>\n",
       "      <th>role</th>\n",
       "      <th>seasonId</th>\n",
       "      <th>sessionId</th>\n",
       "      <th>time</th>\n",
       "      <th>user</th>\n",
       "    </tr>\n",
       "  </thead>\n",
       "  <tbody>\n",
       "    <tr>\n",
       "      <th>39986</th>\n",
       "      <td>0</td>\n",
       "      <td>3</td>\n",
       "      <td>-12.0</td>\n",
       "      <td>1</td>\n",
       "      <td>1</td>\n",
       "      <td>5885e0c6684a332c58913c05</td>\n",
       "      <td>48</td>\n",
       "      <td>2017/1/27</td>\n",
       "      <td>5847f6c3c6c490a90ad826d4</td>\n",
       "    </tr>\n",
       "    <tr>\n",
       "      <th>39987</th>\n",
       "      <td>1</td>\n",
       "      <td>3</td>\n",
       "      <td>-6.0</td>\n",
       "      <td>1</td>\n",
       "      <td>1</td>\n",
       "      <td>5885e0c6684a332c58913c05</td>\n",
       "      <td>48</td>\n",
       "      <td>2017/1/27</td>\n",
       "      <td>5847f6c3c6c490a90ad826d4</td>\n",
       "    </tr>\n",
       "    <tr>\n",
       "      <th>39988</th>\n",
       "      <td>0</td>\n",
       "      <td>3</td>\n",
       "      <td>-6.0</td>\n",
       "      <td>1</td>\n",
       "      <td>2</td>\n",
       "      <td>5885e0c6684a332c58913c05</td>\n",
       "      <td>13</td>\n",
       "      <td>2017/1/27</td>\n",
       "      <td>58418a679782eed425239b6a</td>\n",
       "    </tr>\n",
       "    <tr>\n",
       "      <th>39989</th>\n",
       "      <td>2</td>\n",
       "      <td>3</td>\n",
       "      <td>12.0</td>\n",
       "      <td>1</td>\n",
       "      <td>1</td>\n",
       "      <td>5885e0c6684a332c58913c05</td>\n",
       "      <td>48</td>\n",
       "      <td>2017/1/27</td>\n",
       "      <td>5847f6c3c6c490a90ad826d4</td>\n",
       "    </tr>\n",
       "    <tr>\n",
       "      <th>39990</th>\n",
       "      <td>1</td>\n",
       "      <td>3</td>\n",
       "      <td>-6.0</td>\n",
       "      <td>1</td>\n",
       "      <td>1</td>\n",
       "      <td>5885e0c6684a332c58913c05</td>\n",
       "      <td>13</td>\n",
       "      <td>2017/1/27</td>\n",
       "      <td>58418a679782eed425239b6a</td>\n",
       "    </tr>\n",
       "  </tbody>\n",
       "</table>\n",
       "</div>"
      ],
      "text/plain": [
       "       gameId  gameMultiple  gameResult  gameStatus  role  \\\n",
       "39986       0             3       -12.0           1     1   \n",
       "39987       1             3        -6.0           1     1   \n",
       "39988       0             3        -6.0           1     2   \n",
       "39989       2             3        12.0           1     1   \n",
       "39990       1             3        -6.0           1     1   \n",
       "\n",
       "                       seasonId  sessionId       time  \\\n",
       "39986  5885e0c6684a332c58913c05         48  2017/1/27   \n",
       "39987  5885e0c6684a332c58913c05         48  2017/1/27   \n",
       "39988  5885e0c6684a332c58913c05         13  2017/1/27   \n",
       "39989  5885e0c6684a332c58913c05         48  2017/1/27   \n",
       "39990  5885e0c6684a332c58913c05         13  2017/1/27   \n",
       "\n",
       "                           user  \n",
       "39986  5847f6c3c6c490a90ad826d4  \n",
       "39987  5847f6c3c6c490a90ad826d4  \n",
       "39988  58418a679782eed425239b6a  \n",
       "39989  5847f6c3c6c490a90ad826d4  \n",
       "39990  58418a679782eed425239b6a  "
      ]
     },
     "execution_count": 221,
     "metadata": {},
     "output_type": "execute_result"
    }
   ],
   "source": [
    "seasonLog_1.head()"
   ]
  },
  {
   "cell_type": "markdown",
   "metadata": {},
   "source": [
    "# 满分是多少？Max和Min本身差多少"
   ]
  },
  {
   "cell_type": "code",
   "execution_count": 226,
   "metadata": {},
   "outputs": [],
   "source": [
    "#先生成每一个game的distibution\n",
    "def get_score_distribution(sl):\n",
    "    \n",
    "    grouped = sl.groupby(['seasonId', 'sessionId', 'gameId', 'gameResult'])\n",
    "    score_d = grouped.user.count().rename('userNum')\n",
    "    score_d = score_d.unstack().fillna(0)\n",
    "    d = dict()\n",
    "    \n",
    "    for _, l in score_d.iterrows():\n",
    "        d[_] = l.rename('userNum')\n",
    "    score_d = d\n",
    "    return score_d\n",
    "\n",
    "#在生成每一个玩家在每一个game上目前的一个得分情况\n",
    "def get_player_game_score(seasonId, sessionId, gameId, score_d, game_result):\n",
    "\n",
    "    game_score_d = score_d[(seasonId, sessionId, gameId)]\n",
    "    num = game_score_d.sum() - 1\n",
    "    val_num_1 = game_score_d[game_score_d.index < game_result].sum()\n",
    "    val_num_2 = (game_score_d[game_score_d.index == game_result].sum() - 1) / 2\n",
    "    \n",
    "    if num == 0:\n",
    "        return 50\n",
    "    else:\n",
    "        score = (val_num_1 + val_num_2) / num\n",
    "        score *= 100\n",
    "        return score\n",
    "\n",
    "#生成每位玩家在每局game上的评分，需要保存下来    \n",
    "def get_all_player_game_scores(sl):\n",
    "\n",
    "    score_d = get_score_distribution(sl)\n",
    "    p_scores = {}\n",
    "    \n",
    "    for _, l in sl.iterrows():\n",
    "        info = tuple([l.user, l.seasonId, l.sessionId, l.gameId])\n",
    "        try:\n",
    "            score = get_player_game_score(*info[1:], score_d, l.gameResult)\n",
    "            p_scores[info] = score\n",
    "        except:\n",
    "            pass\n",
    "    return p_scores"
   ]
  },
  {
   "cell_type": "markdown",
   "metadata": {},
   "source": [
    "下面将玩家得分暂时存储起来"
   ]
  },
  {
   "cell_type": "code",
   "execution_count": 228,
   "metadata": {},
   "outputs": [],
   "source": [
    "p_scores_path = '/Users/kuangzheng/Programming/GameAI/Data/log_data/tmp/player_scores.season1'\n",
    "p_scores = get_all_player_game_scores(seasonLog_1)\n",
    "p_scores = Series(p_scores)\n",
    "p_scores.name = 'gameScore'\n",
    "p_scores.index.names = ['user', 'seasonId', 'sessionId', 'gameId']\n",
    "p_scores.to_frame().to_csv(p_scores_path, float_format = '%.2f')"
   ]
  },
  {
   "cell_type": "code",
   "execution_count": 229,
   "metadata": {
    "scrolled": true
   },
   "outputs": [
    {
     "data": {
      "text/html": [
       "<div>\n",
       "<style scoped>\n",
       "    .dataframe tbody tr th:only-of-type {\n",
       "        vertical-align: middle;\n",
       "    }\n",
       "\n",
       "    .dataframe tbody tr th {\n",
       "        vertical-align: top;\n",
       "    }\n",
       "\n",
       "    .dataframe thead th {\n",
       "        text-align: right;\n",
       "    }\n",
       "</style>\n",
       "<table border=\"1\" class=\"dataframe\">\n",
       "  <thead>\n",
       "    <tr style=\"text-align: right;\">\n",
       "      <th></th>\n",
       "      <th></th>\n",
       "      <th></th>\n",
       "      <th></th>\n",
       "      <th>gameScore</th>\n",
       "    </tr>\n",
       "    <tr>\n",
       "      <th>user</th>\n",
       "      <th>seasonId</th>\n",
       "      <th>sessionId</th>\n",
       "      <th>gameId</th>\n",
       "      <th></th>\n",
       "    </tr>\n",
       "  </thead>\n",
       "  <tbody>\n",
       "    <tr>\n",
       "      <th rowspan=\"5\" valign=\"top\">582ed893b40ccb6f0a70cac3</th>\n",
       "      <th rowspan=\"5\" valign=\"top\">5885e0c6684a332c58913c05</th>\n",
       "      <th rowspan=\"5\" valign=\"top\">2</th>\n",
       "      <th>0</th>\n",
       "      <td>36.25</td>\n",
       "    </tr>\n",
       "    <tr>\n",
       "      <th>1</th>\n",
       "      <td>31.82</td>\n",
       "    </tr>\n",
       "    <tr>\n",
       "      <th>2</th>\n",
       "      <td>54.55</td>\n",
       "    </tr>\n",
       "    <tr>\n",
       "      <th>3</th>\n",
       "      <td>61.11</td>\n",
       "    </tr>\n",
       "    <tr>\n",
       "      <th>4</th>\n",
       "      <td>64.29</td>\n",
       "    </tr>\n",
       "  </tbody>\n",
       "</table>\n",
       "</div>"
      ],
      "text/plain": [
       "                                                                    gameScore\n",
       "user                     seasonId                 sessionId gameId           \n",
       "582ed893b40ccb6f0a70cac3 5885e0c6684a332c58913c05 2         0           36.25\n",
       "                                                            1           31.82\n",
       "                                                            2           54.55\n",
       "                                                            3           61.11\n",
       "                                                            4           64.29"
      ]
     },
     "execution_count": 229,
     "metadata": {},
     "output_type": "execute_result"
    }
   ],
   "source": [
    "p_scores.to_frame().head()"
   ]
  },
  {
   "cell_type": "markdown",
   "metadata": {},
   "source": [
    "为了查询方便进一步以字典形式处理p_scores"
   ]
  },
  {
   "cell_type": "code",
   "execution_count": 497,
   "metadata": {
    "collapsed": true
   },
   "outputs": [],
   "source": [
    "p_scores_dict = {}\n",
    "normalization=False#不改变分布但是强调了分数的重要性\n",
    "for ind in p_scores.index:\n",
    "    s = p_scores.loc[ind[:3]]\n",
    "    if normalization == True:\n",
    "        s = (s - s.min())/(s.max() - s.min()) * 100\n",
    "    if ind[:3] not in p_scores_dict:\n",
    "        p_scores_dict[ind[:3]] = s"
   ]
  },
  {
   "cell_type": "markdown",
   "metadata": {},
   "source": [
    "# 2nd Step\n",
    "### game区分度模型\n",
    "### 目的输出：Season，Session，Game的区分度"
   ]
  },
  {
   "cell_type": "code",
   "execution_count": 197,
   "metadata": {},
   "outputs": [],
   "source": [
    "def compute_disc(freq):\n",
    "    #在这里不光可以进行基础的shannon计算，也可以进一步的考察难易性等\n",
    "    if freq.sum() != 1:\n",
    "        freq /= freq.sum()\n",
    "    if isinstance(freq, (np.ndarray, Series)):\n",
    "        disc = 0\n",
    "        for p in freq:\n",
    "            if p != 0:\n",
    "                disc += -p * np.log2(p)\n",
    "        return disc\n",
    "    else:\n",
    "        raise TypeError('wrong type')\n",
    "\n",
    "def get_game_disc(seasonId, sessionId, gameId, score_d):\n",
    "    #直接计算game的区分度\n",
    "    game_score_d = score_d[(seasonId, sessionId, gameId)].copy()\n",
    "    game_score_d /= game_score_d.sum()\n",
    "    disc = get_disc(game_score_d)\n",
    "    return disc\n",
    "\n",
    "def all_games_discs(sl):\n",
    "    \n",
    "    score_d = get_score_distribution(sl)\n",
    "    g_discs = {}\n",
    "    \n",
    "    for _, l in sl.iterrows():\n",
    "        info = tuple([l.seasonId, l.sessionId, l.gameId])\n",
    "        try:\n",
    "            disc = get_game_disc(*info, score_d)\n",
    "            g_discs[info] = disc\n",
    "        except:\n",
    "            pass\n",
    "    return g_discs"
   ]
  },
  {
   "cell_type": "markdown",
   "metadata": {},
   "source": [
    "### game一致性模型\n",
    "### 目的输出：Season，Session内不同game之间的关联性"
   ]
  },
  {
   "cell_type": "code",
   "execution_count": 546,
   "metadata": {},
   "outputs": [],
   "source": [
    "def get_session_game_score_dict(sl):\n",
    "    gameResult = sl.set_index(['seasonId', 'sessionId','user','gameId']).gameResult\n",
    "    session_game_score = gameResult.unstack()\n",
    "    session_game_score_dict = {}\n",
    "    for ind in session_game_score.index:\n",
    "        scores = session_game_score.loc[ind[:2]]\n",
    "        if ind[:2] not in session_game_score_dict:\n",
    "            session_game_score_dict[ind[:2]] = scores\n",
    "    return session_game_score_dict\n",
    "\n",
    "def get_session_game_kendall_dict(session_game_score_dict):\n",
    "    #计算每个session中的每个game相互之间的kendall系数\n",
    "    session_game_kendall_dict = {}\n",
    "    for _, scores in session_game_score_dict.items():\n",
    "        cons = scores.corr(method='kendall')\n",
    "        cons = cons.mean()\n",
    "        session_game_kendall_dict[_] = cons\n",
    "    return session_game_kendall_dict\n",
    "\n",
    "def get_kendall_filter_game_dict(session_game_kendall_dict):\n",
    "    #根据前面的数据进行game层面的过滤\n",
    "    kendall_filter_game_dict = {}\n",
    "    for _, v in session_game_kendall_dict.items:\n",
    "        kendall_filter_game_dict[_] = \n",
    "        \n",
    "        "
   ]
  },
  {
   "cell_type": "code",
   "execution_count": 547,
   "metadata": {},
   "outputs": [],
   "source": [
    "d = get_session_game_score_dict(test_sl)"
   ]
  },
  {
   "cell_type": "code",
   "execution_count": 557,
   "metadata": {},
   "outputs": [
    {
     "data": {
      "text/plain": [
       "gameId\n",
       "4    0.13\n",
       "2    0.26\n",
       "3    0.29\n",
       "5    0.30\n",
       "1    0.34\n",
       "0    0.36\n",
       "dtype: float64"
      ]
     },
     "execution_count": 557,
     "metadata": {},
     "output_type": "execute_result"
    }
   ],
   "source": [
    "d[('5885e1000d2b3a7658b3e4b4',0)].corr(method='kendall').mean().sort_values()"
   ]
  },
  {
   "cell_type": "markdown",
   "metadata": {},
   "source": [
    "#### 将不同game区分度存起来\n",
    "#### 并且做一下区分度的分布，可以看出差异对于玩家分布的差异较大"
   ]
  },
  {
   "cell_type": "code",
   "execution_count": 207,
   "metadata": {},
   "outputs": [],
   "source": [
    "g_discs_path = '/Users/kuangzheng/Programming/GameAI/Data/log_data/tmp/game_discrimination.season1'\n",
    "g_discs = all_games_discs(seasonLog_1)\n",
    "g_discs = Series(g_discs)\n",
    "g_discs.name = 'gameDiscrimination'\n",
    "g_discs.index.names = ['seasonId', 'sessionId', 'gameId']\n",
    "g_discs.to_frame().to_csv(g_discs_path, float_format = '%.2f')"
   ]
  },
  {
   "cell_type": "code",
   "execution_count": 223,
   "metadata": {
    "scrolled": true
   },
   "outputs": [
    {
     "data": {
      "text/html": [
       "<div>\n",
       "<style scoped>\n",
       "    .dataframe tbody tr th:only-of-type {\n",
       "        vertical-align: middle;\n",
       "    }\n",
       "\n",
       "    .dataframe tbody tr th {\n",
       "        vertical-align: top;\n",
       "    }\n",
       "\n",
       "    .dataframe thead th {\n",
       "        text-align: right;\n",
       "    }\n",
       "</style>\n",
       "<table border=\"1\" class=\"dataframe\">\n",
       "  <thead>\n",
       "    <tr style=\"text-align: right;\">\n",
       "      <th></th>\n",
       "      <th></th>\n",
       "      <th></th>\n",
       "      <th>gameDiscrimination</th>\n",
       "    </tr>\n",
       "    <tr>\n",
       "      <th>seasonId</th>\n",
       "      <th>sessionId</th>\n",
       "      <th>gameId</th>\n",
       "      <th></th>\n",
       "    </tr>\n",
       "  </thead>\n",
       "  <tbody>\n",
       "    <tr>\n",
       "      <th rowspan=\"5\" valign=\"top\">5885e0c6684a332c58913c05</th>\n",
       "      <th rowspan=\"5\" valign=\"top\">0</th>\n",
       "      <th>0</th>\n",
       "      <td>2.32</td>\n",
       "    </tr>\n",
       "    <tr>\n",
       "      <th>1</th>\n",
       "      <td>0.61</td>\n",
       "    </tr>\n",
       "    <tr>\n",
       "      <th>2</th>\n",
       "      <td>1.03</td>\n",
       "    </tr>\n",
       "    <tr>\n",
       "      <th>3</th>\n",
       "      <td>1.57</td>\n",
       "    </tr>\n",
       "    <tr>\n",
       "      <th>4</th>\n",
       "      <td>1.88</td>\n",
       "    </tr>\n",
       "  </tbody>\n",
       "</table>\n",
       "</div>"
      ],
      "text/plain": [
       "                                           gameDiscrimination\n",
       "seasonId                 sessionId gameId                    \n",
       "5885e0c6684a332c58913c05 0         0                     2.32\n",
       "                                   1                     0.61\n",
       "                                   2                     1.03\n",
       "                                   3                     1.57\n",
       "                                   4                     1.88"
      ]
     },
     "execution_count": 223,
     "metadata": {},
     "output_type": "execute_result"
    }
   ],
   "source": [
    "g_discs.to_frame().head()"
   ]
  },
  {
   "cell_type": "code",
   "execution_count": 224,
   "metadata": {
    "scrolled": false
   },
   "outputs": [
    {
     "name": "stdout",
     "output_type": "stream",
     "text": [
      "均值为:1.24\n",
      "标准偏差为:0.56\n"
     ]
    },
    {
     "data": {
      "image/png": "[encoded data removed]",
      "text/plain": [
       "<matplotlib.figure.Figure at 0x10f3a6eb8>"
      ]
     },
     "metadata": {},
     "output_type": "display_data"
    }
   ],
   "source": [
    "g_discs.hist(bins=20)\n",
    "print('均值为:{:.3}'.format(g_discs.mean()))\n",
    "print('标准偏差为:{:.2}'.format(g_discs.std()))"
   ]
  },
  {
   "cell_type": "markdown",
   "metadata": {},
   "source": [
    "为了查询方便将g_discs存储为dict格式"
   ]
  },
  {
   "cell_type": "code",
   "execution_count": 238,
   "metadata": {
    "collapsed": true
   },
   "outputs": [],
   "source": [
    "g_discs_dict = {}\n",
    "for ind in g_discs.index:\n",
    "    g_discs_dict[ind[:3]] = g_discs.loc[ind[:3]]"
   ]
  },
  {
   "cell_type": "markdown",
   "metadata": {},
   "source": [
    "# 3rd Step\n",
    "### 玩家session表现评价模型\n",
    "### 目的输出：玩家player在不同Season，Session的上的得分\n"
   ]
  },
  {
   "cell_type": "code",
   "execution_count": 434,
   "metadata": {
    "collapsed": true
   },
   "outputs": [],
   "source": [
    "def get_player_session_score(user, seasonId, sessionId, p_scores_dict, g_discs_dict, disc=True):\n",
    "    #计算某一玩家在某一session的得分情况\n",
    "    user_games = p_scores_dict[(user, seasonId, sessionId)]\n",
    "    if len(user_games) < 6:\n",
    "        return 1\n",
    "    else:\n",
    "        session_score = 0\n",
    "        weight = 0\n",
    "        for g, s in user_games.iteritems():\n",
    "            if disc == True:\n",
    "                g_weight = g_discs_dict[(seasonId, sessionId, g)]\n",
    "            else:\n",
    "                g_weight = 1\n",
    "            session_score += s * g_weight\n",
    "            weight += g_weight\n",
    "        session_score /= weight\n",
    "        return session_score\n",
    "\n",
    "def get_all_player_session_scores(sl, p_scores_dict, g_discs_dict, disc=True):\n",
    "    #将每位玩家完成的session给出评分\n",
    "    user_sessions = sl[['user', 'seasonId', 'sessionId']].drop_duplicates()\n",
    "    p_session_scores = {}\n",
    "    for _, i in user_sessions.iterrows():\n",
    "        us = tuple(i)\n",
    "        us_score = get_player_session_score(*us, p_scores_dict, g_discs_dict, disc)\n",
    "        p_session_scores[us] = us_score\n",
    "    return p_session_scores"
   ]
  },
  {
   "cell_type": "markdown",
   "metadata": {},
   "source": [
    "# 4th Step\n",
    "### 直接取平均分作为season得分可以"
   ]
  },
  {
   "cell_type": "code",
   "execution_count": 439,
   "metadata": {},
   "outputs": [],
   "source": [
    "def get_player_season_scores(sl, p_scores_dict, g_discs_dict, disc):\n",
    "    p_session_scores = get_all_player_session_scores(sl, p_scores_dict, g_discs_dict, disc)\n",
    "    p_session_scores = Series(p_session_scores, name='p_session_scores')\n",
    "    p_session_scores.index.name = 'user'\n",
    "    p_session_scores = p_session_scores[p_session_scores != 1]\n",
    "    p_season_scores = p_session_scores.mean(level=0)\n",
    "    return p_season_scores"
   ]
  },
  {
   "cell_type": "markdown",
   "metadata": {},
   "source": [
    "# 5rd Test\n",
    "### 对模型进行进一步的评测，测试排名算法的准确性，比较实际得分"
   ]
  },
  {
   "cell_type": "code",
   "execution_count": 490,
   "metadata": {},
   "outputs": [],
   "source": [
    "def get_game_player_result_dict(sl):\n",
    "    #生成每一game_player_result的查询表,格式'seasonId', 'sessionId', 'gameId', 'user'\n",
    "    sl_dict = sl.set_index(['seasonId', 'sessionId', 'gameId', 'user'])\n",
    "    result = sl_dict.gameResult\n",
    "    result_dict = result.to_dict()\n",
    "    return result_dict\n",
    "\n",
    "def get_game_player_dict(sl):\n",
    "    #生成每局game_player查询表,格式'seasonId', 'sessionId','gameId'\n",
    "    sl_dict = sl.set_index(['seasonId', 'sessionId', 'gameId'])\n",
    "    users = sl_dict.user\n",
    "    user_dict = {}\n",
    "    for ind in users.index:\n",
    "        user_dict[ind] = list(users.loc[ind])\n",
    "    return user_dict\n",
    "\n",
    "def get_pair_player_compare(seasonId, sessionId, gameId, user_1, user_2, test_result_dict, train_p_season_scores):\n",
    "    #比较查询，返回两个值，是否合法，是否存在\n",
    "    #本赛季result_dict\n",
    "    #之前的p_season_scores\n",
    "    game_user_1 = (seasonId, sessionId, gameId, user_1)\n",
    "    game_user_2 = (seasonId, sessionId, gameId, user_2)\n",
    "    try:\n",
    "        \n",
    "        r = 0\n",
    "        score_1 = train_p_season_scores[user_1]\n",
    "        score_2 = train_p_season_scores[user_2]\n",
    "        score_diff = score_1 - score_2\n",
    "        result_1 = test_result_dict[game_user_1]\n",
    "        result_2 = test_result_dict[game_user_2]\n",
    "        result_diff = result_1 - result_2\n",
    "        \n",
    "        if score_diff * result_diff > 0:\n",
    "            return 1, 1\n",
    "        elif result_diff == 0:\n",
    "            return 1, 0.5\n",
    "        else:\n",
    "            return 1, 0\n",
    "        \n",
    "    except KeyError:\n",
    "        return 0, 0\n",
    "\n",
    "def get_test_data_result(test_sl, train_p_season_scores):\n",
    "    ##season log\n",
    "    result_dict = get_game_player_result_dict(test_sl)\n",
    "    user_dict = get_game_player_dict(test_sl)\n",
    "    games = test_sl[['seasonId', 'sessionId', 'gameId']].drop_duplicates()\n",
    "    total_val, total_hit = 0, 0\n",
    "    for g in games.itertuples(index=False, name=None):\n",
    "        users = user_dict[g]\n",
    "        \n",
    "        for i in range(len(users)):\n",
    "            for j in range(i+1, len(users)):\n",
    "                val, hit = get_pair_player_compare(*g, users[i], users[j], result_dict, train_p_season_scores)\n",
    "                total_val += val\n",
    "                total_hit += hit\n",
    "\n",
    "    return total_val, total_hit"
   ]
  },
  {
   "cell_type": "markdown",
   "metadata": {},
   "source": [
    "# 测试环节"
   ]
  },
  {
   "cell_type": "code",
   "execution_count": 478,
   "metadata": {
    "collapsed": true
   },
   "outputs": [],
   "source": [
    "test_sl = seasonLog_2"
   ]
  },
  {
   "cell_type": "code",
   "execution_count": 498,
   "metadata": {
    "collapsed": true
   },
   "outputs": [],
   "source": [
    "ps = get_player_season_scores(sl, p_scores_dict, g_discs_dict, True)"
   ]
  },
  {
   "cell_type": "code",
   "execution_count": 503,
   "metadata": {},
   "outputs": [
    {
     "name": "stderr",
     "output_type": "stream",
     "text": [
      "/usr/local/lib/python3.6/site-packages/ipykernel_launcher.py:14: PerformanceWarning: indexing past lexsort depth may impact performance.\n",
      "  \n"
     ]
    },
    {
     "data": {
      "text/plain": [
       "(183731, 97196.5)"
      ]
     },
     "execution_count": 503,
     "metadata": {},
     "output_type": "execute_result"
    }
   ],
   "source": [
    "get_test_data_result(seasonLog_2, ps)"
   ]
  },
  {
   "cell_type": "markdown",
   "metadata": {},
   "source": [
    "最初版新方法：  train: (194399, 107533.5) test:(183731, 98529.5)"
   ]
  },
  {
   "cell_type": "markdown",
   "metadata": {},
   "source": [
    "原始方法准确率：train: (194399, 107589.5) test:(183731, 98528.5)"
   ]
  },
  {
   "cell_type": "markdown",
   "metadata": {},
   "source": [
    "对每局game玩家修改分数权重后:train:(194399, 105632.5) test:(183731, 97196.5)"
   ]
  },
  {
   "cell_type": "code",
   "execution_count": null,
   "metadata": {
    "collapsed": true
   },
   "outputs": [],
   "source": []
  }
 ],
 "metadata": {
  "kernelspec": {
   "display_name": "Python 3",
   "language": "python",
   "name": "python3"
  },
  "language_info": {
   "codemirror_mode": {
    "name": "ipython",
    "version": 3
   },
   "file_extension": ".py",
   "mimetype": "text/x-python",
   "name": "python",
   "nbconvert_exporter": "python",
   "pygments_lexer": "ipython3",
   "version": "3.6.1"
  }
 },
 "nbformat": 4,
 "nbformat_minor": 2
}
